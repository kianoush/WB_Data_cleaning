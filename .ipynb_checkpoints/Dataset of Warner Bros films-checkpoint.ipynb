{
 "cells": [
  {
   "cell_type": "markdown",
   "id": "b4001e3d",
   "metadata": {},
   "source": [
    "### WB movies Dataset Creation (w/ Python BeautifulSoup)\n",
    "Scrape & clean a list of disney wikipedia pages to create a dataset to further analyze"
   ]
  },
  {
   "cell_type": "markdown",
   "id": "bbff64f3",
   "metadata": {},
   "source": [
    "### Load the webpage"
   ]
  },
  {
   "cell_type": "code",
   "execution_count": 5,
   "id": "e3d332e4",
   "metadata": {},
   "outputs": [],
   "source": [
    "from bs4 import BeautifulSoup as bs\n",
    "import requests\n",
    "import json\n",
    "import pickle\n",
    "import urllib\n",
    "import os\n",
    "\n",
    "import numpy as np\n",
    "import pandas as pd\n",
    "import matplotlib.pyplot as plt"
   ]
  },
  {
   "cell_type": "code",
   "execution_count": 2,
   "id": "8c71ab95",
   "metadata": {},
   "outputs": [],
   "source": [
    "r = requests.get('https://en.wikipedia.org/wiki/Harry_Potter_and_the_Deathly_Hallows_%E2%80%93_Part_2')\n",
    "\n",
    "# Convert to a beautiful soup object\n",
    "soup = bs(r.content)\n",
    "\n",
    "# Print out the HTML\n",
    "contents = soup.prettify()\n",
    "#contents"
   ]
  },
  {
   "cell_type": "code",
   "execution_count": 3,
   "id": "08d7ddab",
   "metadata": {},
   "outputs": [],
   "source": [
    "info_box = soup.find(class_='infobox vevent')\n",
    "info_rows = info_box.find_all('tr')\n",
    "# for row in info_rows:\n",
    "#     print(row.prettify())\n"
   ]
  },
  {
   "cell_type": "code",
   "execution_count": 4,
   "id": "0a65eb36",
   "metadata": {},
   "outputs": [
    {
     "data": {
      "text/plain": [
       "{'title': 'Harry Potter and the Deathly Hallows – Part 2',\n",
       " 'Directed by': 'David Yates',\n",
       " 'Screenplay by': 'Steve Kloves',\n",
       " 'Based on': 'Harry Potter and the Deathly Hallows by J. K. Rowling',\n",
       " 'Produced by': 'David Heyman David Barron J. K. Rowling',\n",
       " 'Starring': 'Daniel Radcliffe Rupert Grint Emma Watson Helena Bonham Carter Robbie Coltrane Warwick Davis Ralph Fiennes Michael Gambon John Hurt Jason Isaacs Gary Oldman Alan Rickman Maggie Smith David Thewlis Julie Walters',\n",
       " 'Cinematography': 'Eduardo Serra',\n",
       " 'Edited by': 'Mark Day',\n",
       " 'Music by': 'Alexandre Desplat',\n",
       " 'Production companies': 'Warner Bros. Pictures Heyday Films',\n",
       " 'Distributed by': 'Warner Bros. Pictures',\n",
       " 'Release date': '7\\xa0July\\xa02011 ( 2011-07-07 ) ( Trafalgar Square ) 15\\xa0July\\xa02011 ( 2011-07-15 ) (United Kingdom and United States)',\n",
       " 'Running time': '130 minutes [1]',\n",
       " 'Countries': 'United Kingdom United States',\n",
       " 'Language': 'English',\n",
       " 'Budget': '$250 million (shared with Part 1 ) [2] [3]',\n",
       " 'Box office': '$1.342 billion [4]'}"
      ]
     },
     "execution_count": 4,
     "metadata": {},
     "output_type": "execute_result"
    }
   ],
   "source": [
    "def get_content_value(row_data):\n",
    "    if row_data.find(\"li\"):  # if row_data has a list we need to return it to the text word\n",
    "        return [li.get_text(\" \", strip=True).replace(\"\\xa0\", \" \") for li in row_data.find_all(\"li\")]\n",
    "    else:\n",
    "        return row_data.get_text(\" \", strip=True).replace(\"\\xa0\", \" \")\n",
    "\n",
    "movie_info = {}\n",
    "for index, row in enumerate(info_rows):\n",
    "    if index == 0:\n",
    "        movie_info['title'] = row.find(\"th\").get_text(\" \", strip=True)\n",
    "    elif index == 1:\n",
    "        continue\n",
    "    else:\n",
    "        content_key = row.find(\"th\").get_text(\" \", strip=True)\n",
    "        content_value = row.find(\"td\").get_text(\" \", strip=True)\n",
    "        movie_info[content_key] = content_value\n",
    "        \n",
    "movie_info"
   ]
  },
  {
   "cell_type": "code",
   "execution_count": 5,
   "id": "f42a8d35",
   "metadata": {},
   "outputs": [
    {
     "data": {
      "text/plain": [
       "{'title': 'Harry Potter and the Deathly Hallows – Part 2',\n",
       " 'Directed by': 'David Yates',\n",
       " 'Screenplay by': 'Steve Kloves',\n",
       " 'Based on': 'Harry Potter and the Deathly Hallows by J. K. Rowling',\n",
       " 'Produced by': ['David Heyman', 'David Barron', 'J. K. Rowling'],\n",
       " 'Starring': ['Daniel Radcliffe',\n",
       "  'Rupert Grint',\n",
       "  'Emma Watson',\n",
       "  'Helena Bonham Carter',\n",
       "  'Robbie Coltrane',\n",
       "  'Warwick Davis',\n",
       "  'Ralph Fiennes',\n",
       "  'Michael Gambon',\n",
       "  'John Hurt',\n",
       "  'Jason Isaacs',\n",
       "  'Gary Oldman',\n",
       "  'Alan Rickman',\n",
       "  'Maggie Smith',\n",
       "  'David Thewlis',\n",
       "  'Julie Walters'],\n",
       " 'Cinematography': 'Eduardo Serra',\n",
       " 'Edited by': 'Mark Day',\n",
       " 'Music by': 'Alexandre Desplat',\n",
       " 'Production companies': ['Warner Bros. Pictures', 'Heyday Films'],\n",
       " 'Distributed by': 'Warner Bros. Pictures',\n",
       " 'Release date': ['7 July 2011 ( 2011-07-07 ) ( Trafalgar Square )',\n",
       "  '15 July 2011 ( 2011-07-15 ) (United Kingdom and United States)'],\n",
       " 'Running time': '130 minutes [1]',\n",
       " 'Countries': ['United Kingdom', 'United States'],\n",
       " 'Language': 'English',\n",
       " 'Budget': '$250 million (shared with Part 1 ) [2] [3]',\n",
       " 'Box office': '$1.342 billion [4]'}"
      ]
     },
     "execution_count": 5,
     "metadata": {},
     "output_type": "execute_result"
    }
   ],
   "source": [
    "def get_content_value(row_data):\n",
    "    if row_data.find(\"li\"):  # if row_data has a list we need to return it to the text word\n",
    "        return [li.get_text(\" \", strip=True).replace(\"\\xa0\", \" \") for li in row_data.find_all(\"li\")]\n",
    "    else:\n",
    "        return row_data.get_text(\" \", strip=True).replace(\"\\xa0\", \" \")\n",
    "\n",
    "movie_info = {}\n",
    "for index, row in enumerate(info_rows):\n",
    "    if index == 0:\n",
    "        movie_info['title'] = row.find(\"th\").get_text(\" \", strip=True)\n",
    "    elif index == 1:\n",
    "        continue\n",
    "    else:\n",
    "        content_key = row.find(\"th\").get_text(\" \", strip=True)\n",
    "        content_value = get_content_value(row.find(\"td\"))\n",
    "        movie_info[content_key] = content_value\n",
    "    \n",
    "movie_info"
   ]
  },
  {
   "cell_type": "markdown",
   "id": "d3e801c2",
   "metadata": {},
   "source": [
    "### Get info box for all movies"
   ]
  },
  {
   "cell_type": "code",
   "execution_count": 6,
   "id": "271be78b",
   "metadata": {},
   "outputs": [],
   "source": [
    "r = requests.get('https://en.wikipedia.org/wiki/Lists_of_Warner_Bros._films')\n",
    "\n",
    "# Convert to a beautiful soup object\n",
    "soup = bs(r.content)\n",
    "\n",
    "\n",
    "# Print out the HTML\n",
    "# contents = soup.prettify()\n",
    "# print(contents)"
   ]
  },
  {
   "cell_type": "code",
   "execution_count": 7,
   "id": "aa778d6f",
   "metadata": {},
   "outputs": [],
   "source": [
    "def get_content_value(row_data):\n",
    "    if row_data.find(\"li\"):\n",
    "        return [li.get_text(\" \", strip=True).replace(\"\\xa0\", \" \") for li in row_data.find_all(\"li\")]\n",
    "    elif row_data.find(\"br\"):\n",
    "        return [text for text in row_data.stripped_strings]\n",
    "    else:\n",
    "        return row_data.get_text(\" \", strip=True).replace(\"\\xa0\", \" \")\n",
    "\n",
    "def clean_tags(soup):\n",
    "    for tag in soup.find_all([\"sup\", \"span\"]):\n",
    "        tag.decompose()\n",
    "        \n",
    "def get_info_box(url):\n",
    "\n",
    "    r = requests.get(url)\n",
    "    soup = bs(r.content)\n",
    "    info_box = soup.find(class_=\"infobox vevent\")\n",
    "    info_rows = info_box.find_all(\"tr\")\n",
    "    \n",
    "    clean_tags(soup)\n",
    "\n",
    "    movie_info = {}\n",
    "    for index, row in enumerate(info_rows):\n",
    "        if index == 0:\n",
    "            movie_info['title'] = row.find(\"th\").get_text(\" \", strip=True)\n",
    "        else:\n",
    "            header = row.find('th')\n",
    "            if header:\n",
    "                content_key = row.find(\"th\").get_text(\" \", strip=True)\n",
    "                content_value = get_content_value(row.find(\"td\"))\n",
    "                movie_info[content_key] = content_value\n",
    "            \n",
    "    return movie_info  "
   ]
  },
  {
   "cell_type": "code",
   "execution_count": 8,
   "id": "b54db99a",
   "metadata": {},
   "outputs": [
    {
     "data": {
      "text/plain": [
       "['https://en.wikipedia.org//wiki/List_of_Warner_Bros._films_(1918%E2%80%931929)',\n",
       " 'https://en.wikipedia.org//wiki/List_of_Warner_Bros._films_(1930%E2%80%931939)',\n",
       " 'https://en.wikipedia.org//wiki/List_of_Warner_Bros._films_(1940%E2%80%931949)',\n",
       " 'https://en.wikipedia.org//wiki/List_of_Warner_Bros._films_(1950%E2%80%931959)',\n",
       " 'https://en.wikipedia.org//wiki/List_of_Warner_Bros._films_(1960%E2%80%931969)',\n",
       " 'https://en.wikipedia.org//wiki/List_of_Warner_Bros._films_(1970%E2%80%931979)',\n",
       " 'https://en.wikipedia.org//wiki/List_of_Warner_Bros._films_(1980%E2%80%931989)',\n",
       " 'https://en.wikipedia.org//wiki/List_of_Warner_Bros._films_(1990%E2%80%931999)',\n",
       " 'https://en.wikipedia.org//wiki/List_of_Warner_Bros._films_(2000%E2%80%932009)',\n",
       " 'https://en.wikipedia.org//wiki/List_of_Warner_Bros._films_(2010%E2%80%932019)',\n",
       " 'https://en.wikipedia.org//wiki/List_of_Warner_Bros._films_(2020%E2%80%932029)']"
      ]
     },
     "execution_count": 8,
     "metadata": {},
     "output_type": "execute_result"
    }
   ],
   "source": [
    "info_box = soup.find(class_=\"mw-parser-output\")\n",
    "info_rows = info_box.find_all( href=True )\n",
    "\n",
    "base_path = \"https://en.wikipedia.org/\"\n",
    "\n",
    "all_movie_info_list = []\n",
    "for index , p in enumerate(info_rows):\n",
    "    if 2<= index <=12:\n",
    "        all_movie_info_list.append(base_path + p['href'])\n",
    "        \n",
    "\n",
    "all_movie_info_list"
   ]
  },
  {
   "cell_type": "code",
   "execution_count": 9,
   "id": "e83d82f2",
   "metadata": {
    "scrolled": true
   },
   "outputs": [
    {
     "name": "stdout",
     "output_type": "stream",
     "text": [
      "Prisoners\n",
      "Untamed Africa\n",
      "Love, Honor and Behave\n",
      "Pledge to Bataan\n",
      "Dark Passage\n",
      "Burma Victory\n",
      "Fifty Years Before Your Eyes\n",
      "Highway 301\n",
      "Elizabeth Is Queen\n",
      "Ring of Fear\n",
      "Deep Adventure\n",
      "The James Dean Story\n",
      "The Dark at the Top of the Stairs\n",
      "Bimbo the Great\n",
      "A Majority of One\n",
      "World by Night\n",
      "World by Night No. 2\n",
      "The Man from Galveston\n",
      "Temple Houston\n",
      "Dr. Crippen\n",
      "Youngblood Hawke\n",
      "Medicine Ball Caravan\n",
      "Mr. Love\n",
      "Re-Animated\n",
      "Morrison krijgt een zusje\n",
      "Hoe overleef ik mezelf?\n",
      "La bellezza del somaro\n",
      "Jak się pozbyć cellulitu\n",
      "Kadın İşi: Banka Soygunu\n",
      "Hayat Sana Güzel\n",
      "Dabbe: Zehr-i Cin\n",
      "Kırımlı\n",
      "Yusuf Yusuf\n",
      "Köstebekgiller: Perili Orman\n",
      "Sevimli Tehlikeli\n",
      "8 Saniye\n",
      "Git Başımdan\n",
      "Delibal\n",
      "Köstebekgiller 2: Gölgenin Tılsımı\n",
      "Her Şey Aşktan\n",
      "Osman Pazarlama\n",
      "Canım Kardeşim Benim\n",
      "Kırık Kalpler Bankası\n",
      "Kabir Azabı\n",
      "Western Stars\n",
      "Sesame Street\n",
      "Wonka\n",
      "Coyote vs. Acme\n",
      "The Cat in the Hat\n",
      "Oh, the Places You'll Go!\n",
      "Batgirl\n",
      "Blue Beetle\n",
      "Final Destination 6\n",
      "Minecraft\n",
      "Static Shock\n",
      "Bermuda\n",
      "Blackhawk\n",
      "The Demon of Brownsville Road\n",
      "The Flintstones\n",
      "Friday the 13th\n",
      "Funko\n",
      "The Halloween Tree\n",
      "Hello Kitty\n",
      "Hot Wheels\n",
      "Hourman\n",
      "The Ice Dragon\n",
      "The Jetsons\n",
      "Lord of the Flies\n",
      "A Nightmare on Elm Street\n",
      "Permanent Record\n",
      "Ready Player Two\n",
      "Salem's Lot\n",
      "Son of Kong\n",
      "ThunderCats\n",
      "Wacky Races\n",
      "The Wonderful Wizard of Oz\n",
      "Zatanna\n"
     ]
    }
   ],
   "source": [
    "movie_info_list = []\n",
    "\n",
    "for link_movie in (all_movie_info_list):\n",
    "    \n",
    "    r = requests.get(link_movie)\n",
    "    soup = bs(r.content)\n",
    "    movies = soup.select(\".wikitable.sortable i a\")\n",
    "\n",
    "    base_path = \"https://en.wikipedia.org/\"\n",
    "\n",
    "\n",
    "    for index, movie in enumerate(movies):\n",
    "#         if index % 10 == 0:\n",
    "#             print(index)\n",
    "        try:\n",
    "            relative_path = movie['href']\n",
    "            full_path = base_path + relative_path\n",
    "            title = movie['title']\n",
    "\n",
    "            movie_info_list.append(get_info_box(full_path))\n",
    "\n",
    "        except Exception as e:\n",
    "            print(movie.get_text())\n",
    "            #print(e)"
   ]
  },
  {
   "cell_type": "code",
   "execution_count": 10,
   "id": "e4a80bbc",
   "metadata": {},
   "outputs": [
    {
     "data": {
      "text/plain": [
       "{'title': \"Kaiser's Finish\",\n",
       " 'Directed by': 'John Josseph Harvey',\n",
       " 'Story by': ['John Joseph Harvey', 'Clifford P. Saum'],\n",
       " 'Produced by': 'Sam Warner',\n",
       " 'Starring': 'Earl Schenck , Claire Whitney , and Percy Standing',\n",
       " 'Cinematography': 'Rial Schellinger',\n",
       " 'Edited by': 'William Nigh',\n",
       " 'Production company': 'Warner Bros. Pictures',\n",
       " 'Distributed by': ['State Rights', 'Warner Bros. Pictures'],\n",
       " 'Release date': 'November 2, 1918',\n",
       " 'Running time': '6–8 reels',\n",
       " 'Country': 'United States',\n",
       " 'Language': 'Silent'}"
      ]
     },
     "execution_count": 10,
     "metadata": {},
     "output_type": "execute_result"
    }
   ],
   "source": [
    "movie_info_list[1]"
   ]
  },
  {
   "cell_type": "code",
   "execution_count": 11,
   "id": "b4f475d0",
   "metadata": {},
   "outputs": [
    {
     "name": "stdout",
     "output_type": "stream",
     "text": [
      "2864\n"
     ]
    }
   ],
   "source": [
    "print(len(movie_info_list))"
   ]
  },
  {
   "cell_type": "code",
   "execution_count": 12,
   "id": "672f7913",
   "metadata": {},
   "outputs": [],
   "source": [
    "def save_data(title, data):\n",
    "    with open(title, 'w', encoding='utf-8') as f:\n",
    "        json.dump(data, f, ensure_ascii=False, indent=2)"
   ]
  },
  {
   "cell_type": "code",
   "execution_count": 13,
   "id": "93701fbf",
   "metadata": {},
   "outputs": [],
   "source": [
    "save_data(\"Dataset of Warner Bros films\", movie_info_list)"
   ]
  },
  {
   "cell_type": "code",
   "execution_count": 14,
   "id": "b45639c2",
   "metadata": {},
   "outputs": [],
   "source": [
    "def load_data(title):\n",
    "    with open(title, encoding=\"utf-8\") as f:\n",
    "        return json.load(f)\n",
    "movie_info_list = []\n",
    "movie_info_list = load_data(\"Dataset of Warner Bros films\")"
   ]
  },
  {
   "cell_type": "code",
   "execution_count": 15,
   "id": "74910700",
   "metadata": {
    "scrolled": true
   },
   "outputs": [
    {
     "data": {
      "text/plain": [
       "{'title': 'Train to Busan',\n",
       " 'Hangul': '',\n",
       " 'Hanja': '',\n",
       " 'Revised Romanization': 'Busanhaeng',\n",
       " 'Directed by': 'Yeon Sang-ho',\n",
       " 'Written by': 'Park Joo-suk',\n",
       " 'Produced by': 'Lee Dong-ha',\n",
       " 'Starring': ['Gong Yoo',\n",
       "  'Ma Dong-seok',\n",
       "  'Jung Yu-mi',\n",
       "  'Kim Su-an',\n",
       "  'Kim Eui-sung',\n",
       "  'Choi Woo-shik',\n",
       "  'Ahn So-hee'],\n",
       " 'Cinematography': 'Lee Hyung-deok',\n",
       " 'Edited by': 'Yang Jin-mo',\n",
       " 'Music by': 'Jang Young-gyu',\n",
       " 'Production companies': ['Next Entertainment World', 'RedPeter Film'],\n",
       " 'Distributed by': 'Next Entertainment World',\n",
       " 'Release date': ['13 May 2016 ( Cannes )', '20 July 2016 (South Korea)'],\n",
       " 'Running time': '118 minutes',\n",
       " 'Country': 'South Korea',\n",
       " 'Language': 'Korean',\n",
       " 'Budget': '$8.5 million',\n",
       " 'Box office': '$98.5 million'}"
      ]
     },
     "execution_count": 15,
     "metadata": {},
     "output_type": "execute_result"
    }
   ],
   "source": [
    "movie_info_list[-1]"
   ]
  },
  {
   "cell_type": "code",
   "execution_count": 16,
   "id": "89fba694",
   "metadata": {
    "scrolled": true
   },
   "outputs": [],
   "source": [
    "#print([movie.get('Running time', 'N/A') for movie in movie_info_list])"
   ]
  },
  {
   "cell_type": "code",
   "execution_count": 17,
   "id": "1908e0fd",
   "metadata": {},
   "outputs": [
    {
     "name": "stdout",
     "output_type": "stream",
     "text": [
      "6–8 reels\n",
      "70-80 minutes (7-8 reels )\n",
      "1hr 20mins\n",
      "66-69 minutes\n",
      "72-74 minutes\n",
      "1h 5min\n",
      "69-70 minutes\n",
      "73-74 minutes\n",
      "69-80 minutes\n",
      "68-75 minutes\n",
      "57-60 minutes\n",
      "78-84 minutes\n",
      "71-73 minutes\n",
      "74–75 minutes\n",
      "60-62 minutes\n",
      "69-72 minutes\n",
      "62-65 minutes\n",
      "68-69 minutes\n",
      "61-65 minutes\n",
      "63-66 minutes\n",
      "64-65 minutes\n",
      "70-73 minutes\n",
      "65-68 minutes\n",
      "59-60 minutes\n",
      "74-75 minutes\n",
      "74-75 minutes\n",
      "82-95 minutes\n",
      "65-67 minutes\n",
      "95-110 minutes\n",
      "72-78 min.\n",
      "78-85 minutes\n",
      "76-84 minutes\n",
      "60-65 minutes\n",
      "70-71 minutes\n",
      "62–63 min.\n",
      "61-62, or 65, minutes\n",
      "89–90 minutes\n",
      "\n",
      "\n",
      "111-112 minutes\n",
      "90-95 minutes\n",
      "98-105 minutes\n",
      "116-17 minutes\n",
      "99-100 minutes\n",
      "U.K.: 98 min/U.S.: 101 min.\n"
     ]
    }
   ],
   "source": [
    "# \"85 minutes\"\n",
    "\n",
    "def minutes_to_integer(running_time):\n",
    "    try :\n",
    "        \n",
    "        if running_time == \"N/A\":\n",
    "            return None    \n",
    "        if isinstance(running_time, list):\n",
    "            return int(running_time[0][0].split(\" \")[0])\n",
    "        else: # is a string\n",
    "            #print(running_time.split(\" \")[0])\n",
    "            return int(running_time.split(\" \")[0])\n",
    "    except:  \n",
    "        print(running_time)\n",
    "        \n",
    "\n",
    "for movie in movie_info_list:\n",
    "    movie['Running time (int)'] = minutes_to_integer(movie.get('Running time', \"N/A\"))\n"
   ]
  },
  {
   "cell_type": "code",
   "execution_count": 18,
   "id": "0bac146e",
   "metadata": {
    "scrolled": true
   },
   "outputs": [],
   "source": [
    "#print([movie.get('Running time (int)', 'N/A') for movie in movie_info_list])"
   ]
  },
  {
   "cell_type": "code",
   "execution_count": 19,
   "id": "037c35d3",
   "metadata": {},
   "outputs": [],
   "source": [
    "#print([movie.get('Budget', 'N/A') for movie in movie_info_list])"
   ]
  },
  {
   "cell_type": "code",
   "execution_count": 20,
   "id": "8ed51436",
   "metadata": {},
   "outputs": [],
   "source": [
    "import re\n",
    "\n",
    "amounts = r\"thousand|million|billion\"\n",
    "number = r\"\\d+(,\\d{3})*\\.*\\d*\"\n",
    "\n",
    "word_re = rf\"\\${number}(-|\\sto\\s|–)?({number})?\\s({amounts})\"\n",
    "value_re = rf\"\\${number}\"\n",
    "\n",
    "def word_to_value(word):\n",
    "    value_dict = {\"thousand\": 1000, \"million\": 1000000, \"billion\": 1000000000}\n",
    "    return value_dict[word]\n",
    "\n",
    "def parse_word_syntax(string):\n",
    "    value_string = re.search(number, string).group()\n",
    "    value = float(value_string.replace(\",\", \"\"))\n",
    "    word = re.search(amounts, string, flags=re.I).group().lower()\n",
    "    word_value = word_to_value(word)\n",
    "    return value*word_value\n",
    "\n",
    "def parse_value_syntax(string):\n",
    "    value_string = re.search(number, string).group()\n",
    "    value = float(value_string.replace(\",\", \"\"))\n",
    "    return value\n",
    "\n",
    "'''\n",
    "money_conversion(\"$12.2 million\") --> 12200000 ## Word syntax\n",
    "money_conversion(\"$790,000\") --> 790000        ## Value syntax\n",
    "'''\n",
    "def money_conversion(money):\n",
    "    if money == \"N/A\":\n",
    "        return None\n",
    "\n",
    "    if isinstance(money, list):\n",
    "        money = money[0]\n",
    "        \n",
    "    word_syntax = re.search(word_re, money, flags=re.I)\n",
    "    value_syntax = re.search(value_re, money)\n",
    "\n",
    "    if word_syntax:\n",
    "        return parse_word_syntax(word_syntax.group())\n",
    "\n",
    "    elif value_syntax:\n",
    "        return parse_value_syntax(value_syntax.group())\n",
    "\n",
    "    else:\n",
    "        return None"
   ]
  },
  {
   "cell_type": "code",
   "execution_count": 21,
   "id": "9c00e63d",
   "metadata": {},
   "outputs": [],
   "source": [
    "for movie in movie_info_list:\n",
    "    movie['Budget (float)'] = money_conversion(movie.get('Budget', \"N/A\"))\n",
    "    #print(movie['Budget (float)'])\n",
    "    movie['Box office (float)'] = money_conversion(movie.get('Box office', \"N/A\"))\n",
    "    #print(movie['Box office (float)'])\n",
    "    "
   ]
  },
  {
   "cell_type": "code",
   "execution_count": 22,
   "id": "b43e99f0",
   "metadata": {
    "scrolled": true
   },
   "outputs": [
    {
     "data": {
      "text/plain": [
       "{'title': 'Godzilla vs. Kong',\n",
       " 'Directed by': 'Adam Wingard',\n",
       " 'Screenplay by': ['Eric Pearson', 'Max Borenstein'],\n",
       " 'Story by': ['Terry Rossio', 'Michael Dougherty', 'Zach Shields'],\n",
       " 'Based on': ['Godzilla and Mechagodzilla by Toho',\n",
       "  'King Kong by Edgar Wallace Merian C. Cooper'],\n",
       " 'Produced by': ['Thomas Tull',\n",
       "  'Jon Jashni',\n",
       "  'Brian Rogers',\n",
       "  'Mary Parent',\n",
       "  'Alex Garcia',\n",
       "  'Eric McLeod'],\n",
       " 'Starring': ['Alexander Skarsgård',\n",
       "  'Millie Bobby Brown',\n",
       "  'Rebecca Hall',\n",
       "  'Brian Tyree Henry',\n",
       "  'Shun Oguri',\n",
       "  'Eiza González',\n",
       "  'Julian Dennison',\n",
       "  'Lance Reddick',\n",
       "  'Kyle Chandler',\n",
       "  'Demián Bichir'],\n",
       " 'Cinematography': 'Ben Seresin',\n",
       " 'Edited by': 'Josh Schaeffer',\n",
       " 'Music by': 'Tom Holkenborg',\n",
       " 'Production company': 'Legendary Pictures',\n",
       " 'Distributed by': ['Warner Bros. Pictures (Worldwide)', 'Toho (Japan)'],\n",
       " 'Release date': ['March 24, 2021 (International)',\n",
       "  'March 31, 2021 (United States)'],\n",
       " 'Running time': '113 minutes',\n",
       " 'Country': 'United States',\n",
       " 'Language': 'English',\n",
       " 'Budget': '$155–200 million',\n",
       " 'Box office': '$467.8 million',\n",
       " 'Running time (int)': 113,\n",
       " 'Budget (float)': 155000000.0,\n",
       " 'Box office (float)': 467800000.0}"
      ]
     },
     "execution_count": 22,
     "metadata": {},
     "output_type": "execute_result"
    }
   ],
   "source": [
    "movie_info_list[-50]"
   ]
  },
  {
   "cell_type": "code",
   "execution_count": 23,
   "id": "3fff073c",
   "metadata": {},
   "outputs": [],
   "source": [
    "# Convert Dates into datetimes\n",
    "#print([movie.get('Release date','N/A') for movie in movie_info_list])"
   ]
  },
  {
   "cell_type": "code",
   "execution_count": 24,
   "id": "95193e2a",
   "metadata": {
    "scrolled": true
   },
   "outputs": [
    {
     "data": {
      "text/plain": [
       "{'title': 'Train to Busan',\n",
       " 'Hangul': '',\n",
       " 'Hanja': '',\n",
       " 'Revised Romanization': 'Busanhaeng',\n",
       " 'Directed by': 'Yeon Sang-ho',\n",
       " 'Written by': 'Park Joo-suk',\n",
       " 'Produced by': 'Lee Dong-ha',\n",
       " 'Starring': ['Gong Yoo',\n",
       "  'Ma Dong-seok',\n",
       "  'Jung Yu-mi',\n",
       "  'Kim Su-an',\n",
       "  'Kim Eui-sung',\n",
       "  'Choi Woo-shik',\n",
       "  'Ahn So-hee'],\n",
       " 'Cinematography': 'Lee Hyung-deok',\n",
       " 'Edited by': 'Yang Jin-mo',\n",
       " 'Music by': 'Jang Young-gyu',\n",
       " 'Production companies': ['Next Entertainment World', 'RedPeter Film'],\n",
       " 'Distributed by': 'Next Entertainment World',\n",
       " 'Release date': ['13 May 2016 ( Cannes )', '20 July 2016 (South Korea)'],\n",
       " 'Running time': '118 minutes',\n",
       " 'Country': 'South Korea',\n",
       " 'Language': 'Korean',\n",
       " 'Budget': '$8.5 million',\n",
       " 'Box office': '$98.5 million',\n",
       " 'Running time (int)': 118,\n",
       " 'Budget (float)': 8500000.0,\n",
       " 'Box office (float)': 98500000.0}"
      ]
     },
     "execution_count": 24,
     "metadata": {},
     "output_type": "execute_result"
    }
   ],
   "source": [
    "movie_info_list[-1]"
   ]
  },
  {
   "cell_type": "code",
   "execution_count": 25,
   "id": "0c5fdf28",
   "metadata": {},
   "outputs": [],
   "source": [
    "# June 28, 1950\n",
    "# 20 July 2016\n",
    "from datetime import datetime\n",
    "\n",
    "dates = [movie.get('Release date', 'N/A') for movie in movie_info_list]\n",
    "\n",
    "def clean_date(date):\n",
    "    return date.split(\"(\")[0].strip()\n",
    "\n",
    "def date_conversion(date):\n",
    "    if isinstance(date, list):\n",
    "        date = date[0]\n",
    "        \n",
    "    if date == \"N/A\":\n",
    "        return None\n",
    "        \n",
    "    date_str = clean_date(date)\n",
    "\n",
    "    fmts = [\"%B %d, %Y\", \"%d %B %Y\"]\n",
    "    for fmt in fmts:\n",
    "        try:\n",
    "            return datetime.strptime(date_str, fmt)\n",
    "        except:\n",
    "            pass\n",
    "    return None\n"
   ]
  },
  {
   "cell_type": "code",
   "execution_count": 26,
   "id": "af2ee386",
   "metadata": {},
   "outputs": [],
   "source": [
    "for movie in movie_info_list:\n",
    "    movie['Release date (datetime)'] = date_conversion(movie.get('Release date', 'N/A'))"
   ]
  },
  {
   "cell_type": "code",
   "execution_count": 27,
   "id": "a40535ca",
   "metadata": {},
   "outputs": [
    {
     "data": {
      "text/plain": [
       "{'title': 'Train to Busan',\n",
       " 'Hangul': '',\n",
       " 'Hanja': '',\n",
       " 'Revised Romanization': 'Busanhaeng',\n",
       " 'Directed by': 'Yeon Sang-ho',\n",
       " 'Written by': 'Park Joo-suk',\n",
       " 'Produced by': 'Lee Dong-ha',\n",
       " 'Starring': ['Gong Yoo',\n",
       "  'Ma Dong-seok',\n",
       "  'Jung Yu-mi',\n",
       "  'Kim Su-an',\n",
       "  'Kim Eui-sung',\n",
       "  'Choi Woo-shik',\n",
       "  'Ahn So-hee'],\n",
       " 'Cinematography': 'Lee Hyung-deok',\n",
       " 'Edited by': 'Yang Jin-mo',\n",
       " 'Music by': 'Jang Young-gyu',\n",
       " 'Production companies': ['Next Entertainment World', 'RedPeter Film'],\n",
       " 'Distributed by': 'Next Entertainment World',\n",
       " 'Release date': ['13 May 2016 ( Cannes )', '20 July 2016 (South Korea)'],\n",
       " 'Running time': '118 minutes',\n",
       " 'Country': 'South Korea',\n",
       " 'Language': 'Korean',\n",
       " 'Budget': '$8.5 million',\n",
       " 'Box office': '$98.5 million',\n",
       " 'Running time (int)': 118,\n",
       " 'Budget (float)': 8500000.0,\n",
       " 'Box office (float)': 98500000.0,\n",
       " 'Release date (datetime)': datetime.datetime(2016, 5, 13, 0, 0)}"
      ]
     },
     "execution_count": 27,
     "metadata": {},
     "output_type": "execute_result"
    }
   ],
   "source": [
    "movie_info_list[-1]"
   ]
  },
  {
   "cell_type": "code",
   "execution_count": 28,
   "id": "73a6cb53",
   "metadata": {},
   "outputs": [],
   "source": [
    "def save_data_pickle(name, data):\n",
    "    with open(name, 'wb') as f:\n",
    "        pickle.dump(data, f)"
   ]
  },
  {
   "cell_type": "code",
   "execution_count": 29,
   "id": "e23c5392",
   "metadata": {
    "scrolled": true
   },
   "outputs": [],
   "source": [
    "save_data_pickle(\"disney_movie_data_cleaned_more.pickle\", movie_info_list)"
   ]
  },
  {
   "cell_type": "code",
   "execution_count": 6,
   "id": "84f1523c",
   "metadata": {},
   "outputs": [],
   "source": [
    "def load_data_pickle(name):\n",
    "    with open(name, 'rb') as f:\n",
    "        return pickle.load(f)"
   ]
  },
  {
   "cell_type": "code",
   "execution_count": 31,
   "id": "6d4762f6",
   "metadata": {},
   "outputs": [],
   "source": [
    "a = load_data_pickle(\"disney_movie_data_cleaned_more.pickle\")"
   ]
  },
  {
   "cell_type": "code",
   "execution_count": 32,
   "id": "b271a6cb",
   "metadata": {},
   "outputs": [
    {
     "data": {
      "text/plain": [
       "True"
      ]
     },
     "execution_count": 32,
     "metadata": {},
     "output_type": "execute_result"
    }
   ],
   "source": [
    "a == movie_info_list"
   ]
  },
  {
   "cell_type": "markdown",
   "id": "0c322ea9",
   "metadata": {},
   "source": [
    "###  Attach IMDB/Rotten Tomatoes/Metascore scores\n"
   ]
  },
  {
   "cell_type": "code",
   "execution_count": 33,
   "id": "0f46211e",
   "metadata": {},
   "outputs": [],
   "source": [
    "movie_info_list = a"
   ]
  },
  {
   "cell_type": "code",
   "execution_count": 34,
   "id": "79ee66cd",
   "metadata": {},
   "outputs": [
    {
     "data": {
      "text/plain": [
       "{'title': 'Clouds',\n",
       " 'Directed by': 'Justin Baldoni',\n",
       " 'Screenplay by': 'Kara Holden',\n",
       " 'Story by': ['Patrick Kopka', 'Casey La Scala', 'Kara Holden'],\n",
       " 'Based on': [\"Fly a Little Higher: How God Answered a Mom's Small Prayer in a Big Way\",\n",
       "  'by Laura Sobiech'],\n",
       " 'Produced by': ['Justin Baldoni', 'Andrew Lazar', 'Casey La Scala'],\n",
       " 'Starring': ['Fin Argus',\n",
       "  'Sabrina Carpenter',\n",
       "  'Madison Iseman',\n",
       "  'Lil Rel Howery',\n",
       "  'Tom Everett Scott',\n",
       "  'Neve Campbell'],\n",
       " 'Cinematography': 'Ben Kutchins',\n",
       " 'Edited by': 'Brett M. Reed',\n",
       " 'Music by': 'Brian Tyler',\n",
       " 'Production companies': ['Wayfarer Studios',\n",
       "  'Warner Bros. Pictures',\n",
       "  'Mad Chance Productions',\n",
       "  'La Scala Films'],\n",
       " 'Distributed by': 'Disney+',\n",
       " 'Release date': ['October 16, 2020'],\n",
       " 'Running time': '121 minutes',\n",
       " 'Country': 'United States',\n",
       " 'Language': 'English',\n",
       " 'Running time (int)': 121,\n",
       " 'Budget (float)': None,\n",
       " 'Box office (float)': None,\n",
       " 'Release date (datetime)': datetime.datetime(2020, 10, 16, 0, 0)}"
      ]
     },
     "execution_count": 34,
     "metadata": {},
     "output_type": "execute_result"
    }
   ],
   "source": [
    "movie_info_list[-60]"
   ]
  },
  {
   "cell_type": "code",
   "execution_count": 35,
   "id": "e8b549c9",
   "metadata": {
    "scrolled": true
   },
   "outputs": [
    {
     "data": {
      "text/plain": [
       "{'Title': 'Clouds',\n",
       " 'Year': '2020',\n",
       " 'Rated': 'PG-13',\n",
       " 'Released': '16 Oct 2020',\n",
       " 'Runtime': '121 min',\n",
       " 'Genre': 'Drama, Music',\n",
       " 'Director': 'Justin Baldoni',\n",
       " 'Writer': 'Kara Holden, Casey La Scala, Patrick Kopka',\n",
       " 'Actors': 'Fin Argus, Neve Campbell, Sabrina Carpenter',\n",
       " 'Plot': 'Young musician Zach Sobiech discovers his cancer has spread, leaving him just a few months to live. With limited time, he follows his dream and makes an album, unaware that it will soon be a viral music phenomenon.',\n",
       " 'Language': 'English',\n",
       " 'Country': 'United States',\n",
       " 'Awards': '1 win & 1 nomination',\n",
       " 'Poster': 'https://m.media-amazon.com/images/M/MV5BYzk5YjUxZDctOTE4Ni00ODc0LThjY2QtNzYzODI5YjEyMWEyXkEyXkFqcGdeQXVyMjAwNzczNTU@._V1_SX300.jpg',\n",
       " 'Ratings': [{'Source': 'Internet Movie Database', 'Value': '7.5/10'},\n",
       "  {'Source': 'Metacritic', 'Value': '55/100'}],\n",
       " 'Metascore': '55',\n",
       " 'imdbRating': '7.5',\n",
       " 'imdbVotes': '7,968',\n",
       " 'imdbID': 'tt6473066',\n",
       " 'Type': 'movie',\n",
       " 'DVD': '16 Oct 2020',\n",
       " 'BoxOffice': 'N/A',\n",
       " 'Production': 'Mad Chance, Wayfarer Studios, Warner Bros.',\n",
       " 'Website': 'N/A',\n",
       " 'Response': 'True'}"
      ]
     },
     "execution_count": 35,
     "metadata": {},
     "output_type": "execute_result"
    }
   ],
   "source": [
    "def get_omdb_info(title):\n",
    "    base_url = \"http://www.omdbapi.com/?\"\n",
    "    parameters = {\"apikey\":'d0ba764a' , 't': title}\n",
    "    params_encoded = urllib.parse.urlencode(parameters)\n",
    "    full_url = base_url + params_encoded\n",
    "    return requests.get(full_url).json()\n",
    "\n",
    "def get_rotten_tomato_score(omdb_info):\n",
    "    ratings = omdb_info.get('Ratings', [])\n",
    "    for rating in ratings:\n",
    "        if rating['Source'] == 'Metacritic':\n",
    "            return rating['Value']\n",
    "    return None\n",
    "\n",
    "get_omdb_info(\"Clouds\")"
   ]
  },
  {
   "cell_type": "code",
   "execution_count": 36,
   "id": "813146e7",
   "metadata": {},
   "outputs": [],
   "source": [
    "for movie in movie_info_list:\n",
    "    title = movie['title']\n",
    "    omdb_info = get_omdb_info(title)\n",
    "    movie['imdb'] = omdb_info.get('imdbRating', None)\n",
    "    movie['metascore'] = omdb_info.get('Metascore', None)\n",
    "    movie['Metacritic'] = get_rotten_tomato_score(omdb_info)"
   ]
  },
  {
   "cell_type": "code",
   "execution_count": 37,
   "id": "f90b34f8",
   "metadata": {},
   "outputs": [
    {
     "data": {
      "text/plain": [
       "{'title': \"Kaiser's Finish\",\n",
       " 'Directed by': 'John Josseph Harvey',\n",
       " 'Story by': ['John Joseph Harvey', 'Clifford P. Saum'],\n",
       " 'Produced by': 'Sam Warner',\n",
       " 'Starring': 'Earl Schenck , Claire Whitney , and Percy Standing',\n",
       " 'Cinematography': 'Rial Schellinger',\n",
       " 'Edited by': 'William Nigh',\n",
       " 'Production company': 'Warner Bros. Pictures',\n",
       " 'Distributed by': ['State Rights', 'Warner Bros. Pictures'],\n",
       " 'Release date': 'November 2, 1918',\n",
       " 'Running time': '6–8 reels',\n",
       " 'Country': 'United States',\n",
       " 'Language': 'Silent',\n",
       " 'Running time (int)': None,\n",
       " 'Budget (float)': None,\n",
       " 'Box office (float)': None,\n",
       " 'Release date (datetime)': datetime.datetime(1918, 11, 2, 0, 0),\n",
       " 'imdb': '4.0',\n",
       " 'metascore': 'N/A',\n",
       " 'Metacritic': None}"
      ]
     },
     "execution_count": 37,
     "metadata": {},
     "output_type": "execute_result"
    }
   ],
   "source": [
    "movie_info_list[1]"
   ]
  },
  {
   "cell_type": "code",
   "execution_count": 38,
   "id": "c2cda375",
   "metadata": {},
   "outputs": [],
   "source": [
    "save_data_pickle('disney_movie_data_final.pickle', movie_info_list)"
   ]
  },
  {
   "cell_type": "markdown",
   "id": "7083277c",
   "metadata": {},
   "source": [
    " ### Save data as JSON & CSV"
   ]
  },
  {
   "cell_type": "code",
   "execution_count": 39,
   "id": "5d5165b6",
   "metadata": {},
   "outputs": [
    {
     "data": {
      "text/plain": [
       "{'title': 'Train to Busan',\n",
       " 'Hangul': '',\n",
       " 'Hanja': '',\n",
       " 'Revised Romanization': 'Busanhaeng',\n",
       " 'Directed by': 'Yeon Sang-ho',\n",
       " 'Written by': 'Park Joo-suk',\n",
       " 'Produced by': 'Lee Dong-ha',\n",
       " 'Starring': ['Gong Yoo',\n",
       "  'Ma Dong-seok',\n",
       "  'Jung Yu-mi',\n",
       "  'Kim Su-an',\n",
       "  'Kim Eui-sung',\n",
       "  'Choi Woo-shik',\n",
       "  'Ahn So-hee'],\n",
       " 'Cinematography': 'Lee Hyung-deok',\n",
       " 'Edited by': 'Yang Jin-mo',\n",
       " 'Music by': 'Jang Young-gyu',\n",
       " 'Production companies': ['Next Entertainment World', 'RedPeter Film'],\n",
       " 'Distributed by': 'Next Entertainment World',\n",
       " 'Release date': ['13 May 2016 ( Cannes )', '20 July 2016 (South Korea)'],\n",
       " 'Running time': '118 minutes',\n",
       " 'Country': 'South Korea',\n",
       " 'Language': 'Korean',\n",
       " 'Budget': '$8.5 million',\n",
       " 'Box office': '$98.5 million',\n",
       " 'Running time (int)': 118,\n",
       " 'Budget (float)': 8500000.0,\n",
       " 'Box office (float)': 98500000.0,\n",
       " 'Release date (datetime)': datetime.datetime(2016, 5, 13, 0, 0),\n",
       " 'imdb': None,\n",
       " 'metascore': None,\n",
       " 'Metacritic': None}"
      ]
     },
     "execution_count": 39,
     "metadata": {},
     "output_type": "execute_result"
    }
   ],
   "source": [
    "movie_info_list[-1]"
   ]
  },
  {
   "cell_type": "code",
   "execution_count": 40,
   "id": "b39e6aa3",
   "metadata": {},
   "outputs": [],
   "source": [
    "movie_info_copy = [movie.copy() for movie in movie_info_list]"
   ]
  },
  {
   "cell_type": "code",
   "execution_count": 41,
   "id": "9f2dd939",
   "metadata": {},
   "outputs": [],
   "source": [
    "for movie in movie_info_copy:\n",
    "    current_date = movie['Release date (datetime)']\n",
    "    if current_date:\n",
    "        movie['Release date (datetime)'] = current_date.strftime(\"%B %d, %Y\")\n",
    "    else:\n",
    "        movie['Release date (datetime)'] = None"
   ]
  },
  {
   "cell_type": "code",
   "execution_count": 42,
   "id": "92e02432",
   "metadata": {},
   "outputs": [],
   "source": [
    "save_data(\"disney_data_final.csv\", movie_info_copy)"
   ]
  },
  {
   "cell_type": "markdown",
   "id": "762ff8e3",
   "metadata": {},
   "source": [
    "### Convert data to CSV"
   ]
  },
  {
   "cell_type": "code",
   "execution_count": 11,
   "id": "061f77c1",
   "metadata": {
    "scrolled": true
   },
   "outputs": [],
   "source": [
    "import pandas as pd\n",
    "\n",
    "movie_info_list = load_data_pickle('disney_movie_data_final.pickle')\n",
    "\n",
    "df = pd.DataFrame(movie_info_list)"
   ]
  },
  {
   "cell_type": "code",
   "execution_count": 14,
   "id": "ebbc22b2",
   "metadata": {},
   "outputs": [
    {
     "data": {
      "text/html": [
       "<div>\n",
       "<style scoped>\n",
       "    .dataframe tbody tr th:only-of-type {\n",
       "        vertical-align: middle;\n",
       "    }\n",
       "\n",
       "    .dataframe tbody tr th {\n",
       "        vertical-align: top;\n",
       "    }\n",
       "\n",
       "    .dataframe thead th {\n",
       "        text-align: right;\n",
       "    }\n",
       "</style>\n",
       "<table border=\"1\" class=\"dataframe\">\n",
       "  <thead>\n",
       "    <tr style=\"text-align: right;\">\n",
       "      <th></th>\n",
       "      <th>title</th>\n",
       "      <th>Directed by</th>\n",
       "      <th>Written by</th>\n",
       "      <th>Based on</th>\n",
       "      <th>Produced by</th>\n",
       "      <th>Starring</th>\n",
       "      <th>Cinematography</th>\n",
       "      <th>Edited by</th>\n",
       "      <th>Production companies</th>\n",
       "      <th>Distributed by</th>\n",
       "      <th>...</th>\n",
       "      <th>Revised Romanization</th>\n",
       "      <th>McCune–Reischauer</th>\n",
       "      <th>Dutch</th>\n",
       "      <th>Hanja</th>\n",
       "      <th>Italian</th>\n",
       "      <th>Basis</th>\n",
       "      <th>Created by</th>\n",
       "      <th>Original work</th>\n",
       "      <th>Owner</th>\n",
       "      <th>Years</th>\n",
       "    </tr>\n",
       "  </thead>\n",
       "  <tbody>\n",
       "    <tr>\n",
       "      <th>0</th>\n",
       "      <td>My Four Years in Germany</td>\n",
       "      <td>[William Nigh, Clifford P. Saum (assist. direc...</td>\n",
       "      <td>Charles A. Logue</td>\n",
       "      <td>[My Four Years in Germany, by, James W. Gerard]</td>\n",
       "      <td>[Harry Warner, Albert Warner, Sam Warner, Jack...</td>\n",
       "      <td>Halbert Brown</td>\n",
       "      <td>Rial B. Schellinger</td>\n",
       "      <td>William Nigh</td>\n",
       "      <td>[My Four Years in Germany Pictures, Inc., Warn...</td>\n",
       "      <td>First National Exhibitors' Circuit, Inc.</td>\n",
       "      <td>...</td>\n",
       "      <td>NaN</td>\n",
       "      <td>NaN</td>\n",
       "      <td>NaN</td>\n",
       "      <td>NaN</td>\n",
       "      <td>NaN</td>\n",
       "      <td>NaN</td>\n",
       "      <td>NaN</td>\n",
       "      <td>NaN</td>\n",
       "      <td>NaN</td>\n",
       "      <td>NaN</td>\n",
       "    </tr>\n",
       "    <tr>\n",
       "      <th>1</th>\n",
       "      <td>Kaiser's Finish</td>\n",
       "      <td>John Josseph Harvey</td>\n",
       "      <td>NaN</td>\n",
       "      <td>NaN</td>\n",
       "      <td>Sam Warner</td>\n",
       "      <td>Earl Schenck , Claire Whitney , and Percy Stan...</td>\n",
       "      <td>Rial Schellinger</td>\n",
       "      <td>William Nigh</td>\n",
       "      <td>NaN</td>\n",
       "      <td>[State Rights, Warner Bros. Pictures]</td>\n",
       "      <td>...</td>\n",
       "      <td>NaN</td>\n",
       "      <td>NaN</td>\n",
       "      <td>NaN</td>\n",
       "      <td>NaN</td>\n",
       "      <td>NaN</td>\n",
       "      <td>NaN</td>\n",
       "      <td>NaN</td>\n",
       "      <td>NaN</td>\n",
       "      <td>NaN</td>\n",
       "      <td>NaN</td>\n",
       "    </tr>\n",
       "  </tbody>\n",
       "</table>\n",
       "<p>2 rows × 67 columns</p>\n",
       "</div>"
      ],
      "text/plain": [
       "                      title  \\\n",
       "0  My Four Years in Germany   \n",
       "1           Kaiser's Finish   \n",
       "\n",
       "                                         Directed by        Written by  \\\n",
       "0  [William Nigh, Clifford P. Saum (assist. direc...  Charles A. Logue   \n",
       "1                                John Josseph Harvey               NaN   \n",
       "\n",
       "                                          Based on  \\\n",
       "0  [My Four Years in Germany, by, James W. Gerard]   \n",
       "1                                              NaN   \n",
       "\n",
       "                                         Produced by  \\\n",
       "0  [Harry Warner, Albert Warner, Sam Warner, Jack...   \n",
       "1                                         Sam Warner   \n",
       "\n",
       "                                            Starring       Cinematography  \\\n",
       "0                                      Halbert Brown  Rial B. Schellinger   \n",
       "1  Earl Schenck , Claire Whitney , and Percy Stan...     Rial Schellinger   \n",
       "\n",
       "      Edited by                               Production companies  \\\n",
       "0  William Nigh  [My Four Years in Germany Pictures, Inc., Warn...   \n",
       "1  William Nigh                                                NaN   \n",
       "\n",
       "                             Distributed by  ... Revised Romanization  \\\n",
       "0  First National Exhibitors' Circuit, Inc.  ...                  NaN   \n",
       "1     [State Rights, Warner Bros. Pictures]  ...                  NaN   \n",
       "\n",
       "  McCune–Reischauer Dutch Hanja  Italian  Basis  Created by Original work  \\\n",
       "0               NaN   NaN   NaN      NaN    NaN         NaN           NaN   \n",
       "1               NaN   NaN   NaN      NaN    NaN         NaN           NaN   \n",
       "\n",
       "  Owner Years  \n",
       "0   NaN   NaN  \n",
       "1   NaN   NaN  \n",
       "\n",
       "[2 rows x 67 columns]"
      ]
     },
     "execution_count": 14,
     "metadata": {},
     "output_type": "execute_result"
    }
   ],
   "source": [
    "df.head(2)"
   ]
  },
  {
   "cell_type": "code",
   "execution_count": null,
   "id": "8f41cbb9",
   "metadata": {},
   "outputs": [],
   "source": []
  }
 ],
 "metadata": {
  "kernelspec": {
   "display_name": "Python 3",
   "language": "python",
   "name": "python3"
  },
  "language_info": {
   "codemirror_mode": {
    "name": "ipython",
    "version": 3
   },
   "file_extension": ".py",
   "mimetype": "text/x-python",
   "name": "python",
   "nbconvert_exporter": "python",
   "pygments_lexer": "ipython3",
   "version": "3.8.8"
  }
 },
 "nbformat": 4,
 "nbformat_minor": 5
}
